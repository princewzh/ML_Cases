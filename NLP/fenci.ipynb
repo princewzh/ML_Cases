{
 "cells": [
  {
   "cell_type": "code",
   "execution_count": 1,
   "metadata": {},
   "outputs": [],
   "source": [
    "import pandas as pd  ##引入pandas包\n",
    "#from pandas import Series as sr, DataFrame as df  ##从pandas包引入Series与DataFrame格式\n",
    "#from collections import Counter as cr  ##引入Counter进行计数\n",
    "#import jieba.posseg as pseg  ##引入结巴分词词性标注\n",
    "import jieba\n",
    "import jieba.analyse"
   ]
  },
  {
   "cell_type": "code",
   "execution_count": 2,
   "metadata": {},
   "outputs": [],
   "source": [
    "#data1 = pd.read_csv('e:\\\\qq_info\\\\qq_mood.csv',encoding='utf8')\n",
    "df = pd.read_table(r\"2.txt\",encoding='utf8',header=None)\n",
    "#data1.set_index('qq_num')\n",
    "#data1 = pd.read_csv('E:\\\\test\\\\qq_mood.csv',encoding='utf8')"
   ]
  },
  {
   "cell_type": "code",
   "execution_count": 3,
   "metadata": {
    "scrolled": true
   },
   "outputs": [
    {
     "data": {
      "text/html": [
       "<div>\n",
       "<style scoped>\n",
       "    .dataframe tbody tr th:only-of-type {\n",
       "        vertical-align: middle;\n",
       "    }\n",
       "\n",
       "    .dataframe tbody tr th {\n",
       "        vertical-align: top;\n",
       "    }\n",
       "\n",
       "    .dataframe thead th {\n",
       "        text-align: right;\n",
       "    }\n",
       "</style>\n",
       "<table border=\"1\" class=\"dataframe\">\n",
       "  <thead>\n",
       "    <tr style=\"text-align: right;\">\n",
       "      <th></th>\n",
       "      <th>0</th>\n",
       "      <th>1</th>\n",
       "    </tr>\n",
       "  </thead>\n",
       "  <tbody>\n",
       "    <tr>\n",
       "      <th>0</th>\n",
       "      <td>现代农林牧渔业、先进制造业、新型能源活动、节能环保活动、互联网与现代信息技术服务、新技术与双...</td>\n",
       "      <td>NaN</td>\n",
       "    </tr>\n",
       "    <tr>\n",
       "      <th>1</th>\n",
       "      <td>先进设施种植</td>\n",
       "      <td>指利用特定的设施（连栋温室、日光温室），人为创造适用于作物生长的环境，以生产优质、高产、...</td>\n",
       "    </tr>\n",
       "    <tr>\n",
       "      <th>2</th>\n",
       "      <td>NaN</td>\n",
       "      <td>NaN</td>\n",
       "    </tr>\n",
       "    <tr>\n",
       "      <th>3</th>\n",
       "      <td>NaN</td>\n",
       "      <td>NaN</td>\n",
       "    </tr>\n",
       "    <tr>\n",
       "      <th>4</th>\n",
       "      <td>设施养殖</td>\n",
       "      <td>指以自动化养殖设施、饲料散装配送设备等为重点，配备栏舍智能化环境控制、饲喂、性能测定和防...</td>\n",
       "    </tr>\n",
       "  </tbody>\n",
       "</table>\n",
       "</div>"
      ],
      "text/plain": [
       "                                                   0  \\\n",
       "0  现代农林牧渔业、先进制造业、新型能源活动、节能环保活动、互联网与现代信息技术服务、新技术与双...   \n",
       "1                                             先进设施种植   \n",
       "2                                                NaN   \n",
       "3                                                NaN   \n",
       "4                                               设施养殖   \n",
       "\n",
       "                                                   1  \n",
       "0                                                NaN  \n",
       "1    指利用特定的设施（连栋温室、日光温室），人为创造适用于作物生长的环境，以生产优质、高产、...  \n",
       "2                                                NaN  \n",
       "3                                                NaN  \n",
       "4    指以自动化养殖设施、饲料散装配送设备等为重点，配备栏舍智能化环境控制、饲喂、性能测定和防...  "
      ]
     },
     "execution_count": 3,
     "metadata": {},
     "output_type": "execute_result"
    }
   ],
   "source": [
    "df.head()"
   ]
  },
  {
   "cell_type": "code",
   "execution_count": 9,
   "metadata": {},
   "outputs": [],
   "source": [
    "##创建词库的function\n",
    "def createciku(stopwordspath):\n",
    "    '''实际上就是读取txt，结果为一个List'''\n",
    "    stwlist = [line.strip()  \n",
    "               for line in open(stopwordspath, 'r', encoding='utf-8').readlines()]  \n",
    "    return stwlist"
   ]
  },
  {
   "cell_type": "code",
   "execution_count": 14,
   "metadata": {},
   "outputs": [],
   "source": [
    "yuliao = createciku(r\"总语料.txt\")#读取总语料为List\n",
    "stop_words = createciku('stopwords.txt')#读取停用词为list\n",
    "jieba.load_userdict(yuliao)#加载语料为词库"
   ]
  },
  {
   "cell_type": "code",
   "execution_count": 47,
   "metadata": {},
   "outputs": [],
   "source": [
    "df.loc[:,'0_分词'] = df[0].apply(lambda x: list(jieba.cut(str(x),cut_all=False)))#分词\n",
    "df.loc[:,'0_分词'] = df['0_分词'].apply(lambda e: list(filter(lambda x:x not in stop_words,e)))#去停用词"
   ]
  },
  {
   "cell_type": "code",
   "execution_count": 53,
   "metadata": {},
   "outputs": [],
   "source": [
    "df.loc[:,'1_分词'] = df[1].apply(lambda x: list(jieba.cut(str(x),cut_all=False)))\n",
    "df.loc[:,'1_分词'] = df['1_分词'].apply(lambda e: list(filter(lambda x:x not in stop_words,e)))"
   ]
  },
  {
   "cell_type": "code",
   "execution_count": 54,
   "metadata": {},
   "outputs": [
    {
     "data": {
      "text/html": [
       "<div>\n",
       "<style scoped>\n",
       "    .dataframe tbody tr th:only-of-type {\n",
       "        vertical-align: middle;\n",
       "    }\n",
       "\n",
       "    .dataframe tbody tr th {\n",
       "        vertical-align: top;\n",
       "    }\n",
       "\n",
       "    .dataframe thead th {\n",
       "        text-align: right;\n",
       "    }\n",
       "</style>\n",
       "<table border=\"1\" class=\"dataframe\">\n",
       "  <thead>\n",
       "    <tr style=\"text-align: right;\">\n",
       "      <th></th>\n",
       "      <th>0</th>\n",
       "      <th>1</th>\n",
       "      <th>0_分词</th>\n",
       "      <th>1_分词</th>\n",
       "    </tr>\n",
       "  </thead>\n",
       "  <tbody>\n",
       "    <tr>\n",
       "      <th>0</th>\n",
       "      <td>现代农林牧渔业、先进制造业、新型能源活动、节能环保活动、互联网与现代信息技术服务、新技术与双...</td>\n",
       "      <td>NaN</td>\n",
       "      <td>[农林牧渔业, 先进, 制造业, 新型, 能源, 活动, 节能, 环保, 活动, 互联网, ...</td>\n",
       "      <td>[nan]</td>\n",
       "    </tr>\n",
       "    <tr>\n",
       "      <th>1</th>\n",
       "      <td>先进设施种植</td>\n",
       "      <td>指利用特定的设施（连栋温室、日光温室），人为创造适用于作物生长的环境，以生产优质、高产、...</td>\n",
       "      <td>[ ,  ,  ,  , 先进, 设施, 种植]</td>\n",
       "      <td>[ ,  , 指, 利用, 特定, 设施, 连栋, 温室, 日光温室, 人为, 创造, 作物...</td>\n",
       "    </tr>\n",
       "    <tr>\n",
       "      <th>2</th>\n",
       "      <td>NaN</td>\n",
       "      <td>NaN</td>\n",
       "      <td>[nan]</td>\n",
       "      <td>[nan]</td>\n",
       "    </tr>\n",
       "    <tr>\n",
       "      <th>3</th>\n",
       "      <td>NaN</td>\n",
       "      <td>NaN</td>\n",
       "      <td>[nan]</td>\n",
       "      <td>[nan]</td>\n",
       "    </tr>\n",
       "    <tr>\n",
       "      <th>4</th>\n",
       "      <td>设施养殖</td>\n",
       "      <td>指以自动化养殖设施、饲料散装配送设备等为重点，配备栏舍智能化环境控制、饲喂、性能测定和防...</td>\n",
       "      <td>[ ,  ,  ,  , 设施, 养殖]</td>\n",
       "      <td>[ ,  , 指以, 自动化, 养殖, 设施, 饲料, 散装, 配送, 设备, 重点, 配备...</td>\n",
       "    </tr>\n",
       "  </tbody>\n",
       "</table>\n",
       "</div>"
      ],
      "text/plain": [
       "                                                   0  \\\n",
       "0  现代农林牧渔业、先进制造业、新型能源活动、节能环保活动、互联网与现代信息技术服务、新技术与双...   \n",
       "1                                             先进设施种植   \n",
       "2                                                NaN   \n",
       "3                                                NaN   \n",
       "4                                               设施养殖   \n",
       "\n",
       "                                                   1  \\\n",
       "0                                                NaN   \n",
       "1    指利用特定的设施（连栋温室、日光温室），人为创造适用于作物生长的环境，以生产优质、高产、...   \n",
       "2                                                NaN   \n",
       "3                                                NaN   \n",
       "4    指以自动化养殖设施、饲料散装配送设备等为重点，配备栏舍智能化环境控制、饲喂、性能测定和防...   \n",
       "\n",
       "                                                0_分词  \\\n",
       "0  [农林牧渔业, 先进, 制造业, 新型, 能源, 活动, 节能, 环保, 活动, 互联网, ...   \n",
       "1                           [ ,  ,  ,  , 先进, 设施, 种植]   \n",
       "2                                              [nan]   \n",
       "3                                              [nan]   \n",
       "4                               [ ,  ,  ,  , 设施, 养殖]   \n",
       "\n",
       "                                                1_分词  \n",
       "0                                              [nan]  \n",
       "1  [ ,  , 指, 利用, 特定, 设施, 连栋, 温室, 日光温室, 人为, 创造, 作物...  \n",
       "2                                              [nan]  \n",
       "3                                              [nan]  \n",
       "4  [ ,  , 指以, 自动化, 养殖, 设施, 饲料, 散装, 配送, 设备, 重点, 配备...  "
      ]
     },
     "execution_count": 54,
     "metadata": {},
     "output_type": "execute_result"
    }
   ],
   "source": [
    "df.head()"
   ]
  },
  {
   "cell_type": "code",
   "execution_count": 55,
   "metadata": {},
   "outputs": [],
   "source": [
    "df.to_csv('df.csv',index=False,encoding='utf8')#保存结果"
   ]
  }
 ],
 "metadata": {
  "kernelspec": {
   "display_name": "Python 3",
   "language": "python",
   "name": "python3"
  },
  "language_info": {
   "codemirror_mode": {
    "name": "ipython",
    "version": 3
   },
   "file_extension": ".py",
   "mimetype": "text/x-python",
   "name": "python",
   "nbconvert_exporter": "python",
   "pygments_lexer": "ipython3",
   "version": "3.6.3"
  },
  "toc": {
   "nav_menu": {},
   "number_sections": true,
   "sideBar": true,
   "skip_h1_title": false,
   "toc_cell": false,
   "toc_position": {},
   "toc_section_display": "block",
   "toc_window_display": false
  }
 },
 "nbformat": 4,
 "nbformat_minor": 2
}
