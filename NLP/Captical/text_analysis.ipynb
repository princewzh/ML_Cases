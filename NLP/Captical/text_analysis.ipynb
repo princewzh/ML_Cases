{
 "cells": [
  {
   "cell_type": "code",
   "execution_count": 1,
   "metadata": {},
   "outputs": [],
   "source": [
    "import os\n",
    "import glob\n",
    "import pandas as pd\n",
    "import warnings\n",
    "warnings.filterwarnings(\"ignore\")\n",
    "import jieba    #分词包\n",
    "import numpy    #numpy计算包\n",
    "import codecs   #codecs提供的open方法来指定打开的文件的语言编码，它会在读取的时候自动转换为内部unicode \n",
    "import matplotlib.pyplot as plt\n",
    "%matplotlib inline\n",
    "import matplotlib\n",
    "from wordcloud import WordCloud#词云包\n",
    "import jieba.analyse as analyse"
   ]
  },
  {
   "cell_type": "code",
   "execution_count": 2,
   "metadata": {},
   "outputs": [],
   "source": [
    "l1 = []\n",
    "l2 = []\n",
    "for i in range(len(glob.glob(r'./data/cap*.txt'))):\n",
    "    try:\n",
    "        t = ' '.join(pd.read_table(glob.glob(r'./data/cap*.txt')[i],encoding='gbk',header=None).dropna()[0].values.tolist())\n",
    "        l1.append(t)\n",
    "        l2.append(glob.glob(r'./data/cap*.txt')[i])\n",
    "    except Exception as e:\n",
    "        print(glob.glob(r'./data/cap*.txt')[i])\n",
    "\n",
    "df = pd.DataFrame({'txt':l2,'content':l1})\n",
    "df['chapter'] = df['txt'].apply(lambda x:x[10])"
   ]
  },
  {
   "cell_type": "code",
   "execution_count": 3,
   "metadata": {},
   "outputs": [],
   "source": [
    "df_cap1 = df[df['chapter']=='1']\n",
    "df_cap2 = df[df['chapter']=='2']\n",
    "df_cap3 = df[df['chapter']=='3']"
   ]
  },
  {
   "cell_type": "code",
   "execution_count": 9,
   "metadata": {},
   "outputs": [],
   "source": [
    "df.to_csv(r'./data/all.csv',encoding='utf8')#保存一下数据"
   ]
  },
  {
   "cell_type": "code",
   "execution_count": 13,
   "metadata": {},
   "outputs": [
    {
     "name": "stdout",
     "output_type": "stream",
     "text": [
      "第一部分的关键词：\n",
      "tfidf:\n",
      "劳动  价值  工人  商品  生产  资本  劳动力  这种  机器  货币  资本家  形式  小时  工作日  工厂  他们  一个  过程  产品  10\n",
      "textrank:\n",
      "劳动  工人  价值  生产  商品  资本  货币  没有  形式  过程  社会  机器  资本家  劳动力  工厂  产品  作为  使用  时间  小时\n"
     ]
    }
   ],
   "source": [
    "lines=df_cap1.content.values.tolist()\n",
    "content = \"\".join(lines)\n",
    "print('第一部分的关键词：')\n",
    "print('tfidf:')\n",
    "print (\"  \".join(analyse.extract_tags(content, topK=20, withWeight=False, allowPOS=())))\n",
    "print('textrank:')\n",
    "print (\"  \".join(analyse.textrank(content, topK=20, withWeight=False, allowPOS=('ns', 'n', 'vn', 'v'))))"
   ]
  },
  {
   "cell_type": "code",
   "execution_count": 5,
   "metadata": {},
   "outputs": [
    {
     "name": "stdout",
     "output_type": "stream",
     "text": [
      "第二部分的关键词：\n",
      "生产  资本  价值  货币  形式  商品  作为  产品  过程  资本家  流通  劳动  部分  部类  职能  工人  转化  时间  劳动力  社会\n"
     ]
    }
   ],
   "source": [
    "lines=df_cap2.content.values.tolist()\n",
    "content = \"\".join(lines)\n",
    "print('第二部分的关键词：')\n",
    "print (\"  \".join(analyse.textrank(content, topK=20, withWeight=False, allowPOS=('ns', 'n', 'vn', 'v'))))"
   ]
  },
  {
   "cell_type": "code",
   "execution_count": 6,
   "metadata": {},
   "outputs": [
    {
     "name": "stdout",
     "output_type": "stream",
     "text": [
      "第三部分的关键词：\n",
      "资本  生产  价值  商品  价格  土地  货币  作为  劳动  利润  形式  地租  资本家  部分  没有  产品  增加  情况  工人  过程\n"
     ]
    }
   ],
   "source": [
    "lines=df_cap3.content.values.tolist()\n",
    "content = \"\".join(lines)\n",
    "print('第三部分的关键词：')\n",
    "print (\"  \".join(analyse.textrank(content, topK=20, withWeight=False, allowPOS=('ns', 'n', 'vn', 'v'))))"
   ]
  }
 ],
 "metadata": {
  "kernelspec": {
   "display_name": "Python 3",
   "language": "python",
   "name": "python3"
  },
  "language_info": {
   "codemirror_mode": {
    "name": "ipython",
    "version": 3
   },
   "file_extension": ".py",
   "mimetype": "text/x-python",
   "name": "python",
   "nbconvert_exporter": "python",
   "pygments_lexer": "ipython3",
   "version": "3.6.3"
  },
  "toc": {
   "nav_menu": {},
   "number_sections": true,
   "sideBar": true,
   "skip_h1_title": false,
   "toc_cell": false,
   "toc_position": {},
   "toc_section_display": "block",
   "toc_window_display": false
  }
 },
 "nbformat": 4,
 "nbformat_minor": 2
}
